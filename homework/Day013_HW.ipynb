{
 "cells": [
  {
   "cell_type": "markdown",
   "metadata": {},
   "source": [
    "# PTT 網路爬蟲實作練習\n",
    "\n",
    "\n",
    "* 能夠利用 Request + BeatifulSour 撰寫爬蟲，並存放到合適的資料結構\n"
   ]
  },
  {
   "cell_type": "markdown",
   "metadata": {},
   "source": [
    "## 作業目標\n",
    "\n",
    "根據範例 ，完成以下問題：\n",
    "\n",
    "* ① 印出最新文章的「作者」「標題」「時間」\n",
    "* ② 印出第一頁所有文章的「作者」「標題」「時間」"
   ]
  },
  {
   "cell_type": "code",
   "execution_count": 28,
   "outputs": [],
   "source": [
    "import requests\n",
    "from bs4 import BeautifulSoup\n",
    "\n",
    "url = 'https://www.ptt.cc/bbs/NBA/index.html'\n",
    "r = requests.get(url)\n",
    "\n",
    "soup = BeautifulSoup(r.text, \"lxml\")"
   ],
   "metadata": {
    "collapsed": false,
    "pycharm": {
     "name": "#%%\n"
    }
   }
  },
  {
   "cell_type": "markdown",
   "metadata": {},
   "source": [
    "### ① 印出最新文章的「作者」「標題」「時間」"
   ]
  },
  {
   "cell_type": "code",
   "execution_count": 29,
   "metadata": {},
   "outputs": [
    {
     "name": "stdout",
     "output_type": "stream",
     "text": [
      "cowbay5566\n",
      "Re: [新聞] 傑克森節目酸字母哥！你就在超級強隊、別貶低你的隊友\n",
      " 7/22\n"
     ]
    }
   ],
   "source": [
    "first_soup = soup.find(class_=\"r-ent\")\n",
    "print(first_soup.find(\"div\", class_=\"author\").text + first_soup.find(\"div\", class_=\"title\").text + first_soup.find(\"div\", class_=\"date\").text)\n"
   ]
  },
  {
   "cell_type": "markdown",
   "metadata": {},
   "source": [
    "### ② 印出第一頁所有文章的「作者」「標題」「時間」"
   ]
  },
  {
   "cell_type": "code",
   "execution_count": 30,
   "metadata": {},
   "outputs": [
    {
     "name": "stdout",
     "output_type": "stream",
     "text": [
      "cowbay5566\n",
      "Re: [新聞] 傑克森節目酸字母哥！你就在超級強隊、別貶低你的隊友\n",
      " 7/22\n",
      "chengy\n",
      "[討論] 字母哥已經成為外籍球員第一人了嗎?\n",
      " 7/22\n",
      "asdf1256\n",
      "[專欄] 只拿一冠就沉沒？公鹿如何避免步暴龍後塵\n",
      " 7/22\n",
      "pneumo\n",
      "[公告] 水桶*5 口頭警告*1；進板畫面投票催票!\n",
      " 7/22\n",
      "-\n",
      "\t\t\t\n",
      "\t\t\t\t(已被Induction刪除) <davidchen329>150 退 \n",
      "\t\t\t\n",
      "\t\t\t 7/22\n",
      "joydivision2\n",
      "Re: [新聞] 傑克森節目酸字母哥！你就在超級強隊、別貶低你的隊友\n",
      " 7/22\n",
      "willy911006\n",
      "[討論] NBA2021夏日自由市場－－控衛篇\n",
      " 7/22\n",
      "thnlkj0665\n",
      "[新聞] 公鹿奪冠 杜蘭特看好將成為王朝級球隊崛起\n",
      " 7/22\n",
      "handsomeLin\n",
      "Re: [新聞] 傑克森節目酸字母哥！你就在超級強隊、別貶低你的隊友\n",
      " 7/22\n",
      "wegaman\n",
      "Re: [新聞] 傑克森節目酸字母哥！你就在超級強隊、別貶低你的隊友\n",
      " 7/22\n",
      "Induction\n",
      "[公告] 板規v8.2\n",
      " 6/09\n",
      "Induction\n",
      "Re: [公告] 本板開始進板畫面徵選投票\n",
      " 7/18\n",
      "Induction\n",
      "[公告] 發文權限調整及板主徵選預告 (發錢)\n",
      " 7/21\n",
      "laptic\n",
      "[情報] 2020年東京奧運會 對戰圖\n",
      " 7/12\n",
      "Vedan\n",
      "[公告] NBA板救濟專案啟動 & 借用板主位置\n",
      " 7/22\n"
     ]
    }
   ],
   "source": [
    "for d in soup.find_all(class_=\"r-ent\"):\n",
    "    print(d.find(\"div\", class_=\"author\").text + d.find(\"div\", class_=\"title\").text + d.find(\"div\", class_=\"date\").text)\n"
   ]
  },
  {
   "cell_type": "markdown",
   "metadata": {},
   "source": [
    "### ③ 試著爬爬看其他版的文章"
   ]
  },
  {
   "cell_type": "code",
   "execution_count": 32,
   "metadata": {},
   "outputs": [
    {
     "name": "stdout",
     "output_type": "stream",
     "text": [
      "x111222333\n",
      "[討論] 現在電影是在比畫面暗的嗎？\n",
      " 7/21\n",
      "an138\n",
      "[選片] 銀翼殺手跟銀翼殺手2049推薦哪部?\n",
      " 7/21\n",
      "CYKONGG\n",
      "[新聞] 漫威影業承諾未來穩定提供LGBTQIA+故事\n",
      " 7/22\n",
      "godofsex\n",
      "[新聞] 怪物奇兵2原計畫邀麥可喬登客串 導演\n",
      " 7/22\n",
      "bestbamboo\n",
      "[情報] 7/21 當週5部新片預告+Youtube觀看排行\n",
      " 7/22\n",
      "CYKONGG\n",
      "[新聞] 《蝙蝠女孩》人選出爐！\n",
      " 7/22\n",
      "godofsex\n",
      "[新聞] 最愛黑寡婦場景？漫威影業執行長大方公開\n",
      " 7/22\n",
      "bunreachable\n",
      "[問片] 找一部十年前的鬼片\n",
      " 7/22\n",
      "-\n",
      "\t\t\t\n",
      "\t\t\t\t(本文已被刪除) [chirex]\n",
      "\t\t\t\n",
      "\t\t\t 7/22\n",
      "kenny1300175\n",
      "[新聞] 巨石強森表態不會回歸《玩命關頭》系列\n",
      " 7/22\n",
      "lucky21443\n",
      "Re: [問片] 找一部十年前的鬼片\n",
      " 7/22\n",
      "a122239\n",
      "[普雷]《厲陰宅3：是惡魔逼我的》，別讓沉迷事 \n",
      " 7/22\n",
      "TtTt4\n",
      "[公告] 電影板板規 12/08/202\n",
      " 8/12\n",
      "lgng66133\n",
      "[情報] 近期院線預計重映片單\n",
      " 5/13\n",
      "ckshchen\n",
      "[公告] 試行版規-未有在台上映計畫電影規範\n",
      " 6/23\n",
      "ckshchen\n",
      "[公告] 版主選舉開始投票\n",
      " 7/10\n"
     ]
    }
   ],
   "source": [
    "import requests\n",
    "from bs4 import BeautifulSoup\n",
    "\n",
    "url = 'https://www.ptt.cc/bbs/movie/index.html'\n",
    "r = requests.get(url)\n",
    "\n",
    "soup = BeautifulSoup(r.text, \"lxml\")\n",
    "for d in soup.find_all(class_=\"r-ent\"):\n",
    "    print(d.find(\"div\", class_=\"author\").text + d.find(\"div\", class_=\"title\").text + d.find(\"div\", class_=\"date\").text)"
   ]
  },
  {
   "cell_type": "code",
   "execution_count": 31,
   "outputs": [
    {
     "name": "stdout",
     "output_type": "stream",
     "text": [
      "x111222333\n",
      "[討論] 現在電影是在比畫面暗的嗎？\n",
      " 7/21\n",
      "x111222333\n",
      "[討論] 現在電影是在比畫面暗的嗎？\n",
      " 7/21\n",
      "an138\n",
      "[選片] 銀翼殺手跟銀翼殺手2049推薦哪部?\n",
      " 7/21\n",
      "CYKONGG\n",
      "[新聞] 漫威影業承諾未來穩定提供LGBTQIA+故事\n",
      " 7/22\n",
      "godofsex\n",
      "[新聞] 怪物奇兵2原計畫邀麥可喬登客串 導演\n",
      " 7/22\n",
      "bestbamboo\n",
      "[情報] 7/21 當週5部新片預告+Youtube觀看排行\n",
      " 7/22\n",
      "CYKONGG\n",
      "[新聞] 《蝙蝠女孩》人選出爐！\n",
      " 7/22\n",
      "godofsex\n",
      "[新聞] 最愛黑寡婦場景？漫威影業執行長大方公開\n",
      " 7/22\n",
      "bunreachable\n",
      "[問片] 找一部十年前的鬼片\n",
      " 7/22\n",
      "-\n",
      "\t\t\t\n",
      "\t\t\t\t(本文已被刪除) [chirex]\n",
      "\t\t\t\n",
      "\t\t\t 7/22\n",
      "kenny1300175\n",
      "[新聞] 巨石強森表態不會回歸《玩命關頭》系列\n",
      " 7/22\n",
      "lucky21443\n",
      "Re: [問片] 找一部十年前的鬼片\n",
      " 7/22\n",
      "a122239\n",
      "[普雷]《厲陰宅3：是惡魔逼我的》，別讓沉迷事 \n",
      " 7/22\n",
      "TtTt4\n",
      "[公告] 電影板板規 12/08/202\n",
      " 8/12\n",
      "lgng66133\n",
      "[情報] 近期院線預計重映片單\n",
      " 5/13\n",
      "ckshchen\n",
      "[公告] 試行版規-未有在台上映計畫電影規範\n",
      " 6/23\n",
      "ckshchen\n",
      "[公告] 版主選舉開始投票\n",
      " 7/10\n"
     ]
    }
   ],
   "source": [
    "\"\"\"TEST\"\"\"\n",
    "import requests\n",
    "from bs4 import BeautifulSoup\n",
    "\n",
    "url = 'https://www.ptt.cc/bbs/movie/index.html'\n",
    "r = requests.get(url)\n",
    "\n",
    "soup = BeautifulSoup(r.text, \"lxml\")\n",
    "\n",
    "first_soup = soup.find(class_=\"r-ent\")\n",
    "print(first_soup.find(\"div\", class_=\"author\").text + first_soup.find(\"div\", class_=\"title\").text + first_soup.find(\"div\", class_=\"date\").text)\n",
    "\n",
    "for d in soup.find_all(class_=\"r-ent\"):\n",
    "    print(d.find(\"div\", class_=\"author\").text + d.find(\"div\", class_=\"title\").text + d.find(\"div\", class_=\"date\").text)\n",
    "    # print(d.text.replace('\\t', '').replace('\\n', ''))\n",
    "    # try:\n",
    "    #     r = BeautifulSoup(requests.get('https://www.ptt.cc'+d.find('a')['href']).text, \"lxml\")\n",
    "    #     # print(r)\n",
    "    #     print('作者: ' + r.find(class_='r-ent').text)\n",
    "    # except:\n",
    "    #     continue"
   ],
   "metadata": {
    "collapsed": false,
    "pycharm": {
     "name": "#%%\n"
    }
   }
  },
  {
   "cell_type": "code",
   "execution_count": null,
   "outputs": [],
   "source": [],
   "metadata": {
    "collapsed": false,
    "pycharm": {
     "name": "#%%\n"
    }
   }
  }
 ],
 "metadata": {
  "kernelspec": {
   "display_name": "Python 3",
   "language": "python",
   "name": "python3"
  },
  "language_info": {
   "codemirror_mode": {
    "name": "ipython",
    "version": 3
   },
   "file_extension": ".py",
   "mimetype": "text/x-python",
   "name": "python",
   "nbconvert_exporter": "python",
   "pygments_lexer": "ipython3",
   "version": "3.6.5"
  }
 },
 "nbformat": 4,
 "nbformat_minor": 2
}