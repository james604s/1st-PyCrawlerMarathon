{
 "cells": [
  {
   "cell_type": "markdown",
   "metadata": {},
   "source": [
    "# API 資料串接 - 以 Dcard API 實作範例\n",
    "\n",
    "* 了解 Dcard API 使用方式與回傳內容\n",
    "* 撰寫程式存取 API 且解析 JSON 格式資料\n"
   ]
  },
  {
   "cell_type": "markdown",
   "metadata": {},
   "source": [
    "## 作業目標\n",
    "\n",
    "* 請利用 API: https://www.dcard.tw/_api/forums/pet/posts?popular=true 回答下列問題：\n",
    "\n",
    "1. 這個 API 一次會回傳幾筆資料？每一筆資料包含哪些欄位？\n",
    "2. 取出每一筆資料的「標題」、「貼文時間」、「留言人數」、「按讚人數」\n",
    "3. 計算熱門/非熱門文章的「平均留言人數」與「平均按讚人數」"
   ]
  },
  {
   "cell_type": "code",
   "execution_count": 1,
   "metadata": {},
   "outputs": [
    {
     "name": "stdout",
     "output_type": "stream",
     "text": [
      "回傳30筆\n",
      "欄位名稱\n",
      "id\n",
      "title\n",
      "excerpt\n",
      "anonymousSchool\n",
      "anonymousDepartment\n",
      "pinned\n",
      "forumId\n",
      "replyId\n",
      "createdAt\n",
      "updatedAt\n",
      "commentCount\n",
      "likeCount\n",
      "withNickname\n",
      "tags\n",
      "topics\n",
      "meta\n",
      "forumName\n",
      "forumAlias\n",
      "gender\n",
      "school\n",
      "replyTitle\n",
      "mediaMeta\n",
      "reactions\n",
      "hidden\n",
      "customStyle\n",
      "isSuspiciousAccount\n",
      "layout\n",
      "withImages\n",
      "withVideos\n",
      "media\n",
      "reportReasonText\n",
      "postAvatar\n"
     ]
    }
   ],
   "source": [
    "# 1. 這個 API 一次會回傳幾筆資料？每一筆資料包含哪些欄位？\n",
    "\n",
    "import requests\n",
    "import json\n",
    "r = requests.get('https://www.dcard.tw/_api/forums/pet/posts?popular=true')\n",
    "response = r.text\n",
    "data = json.loads(response)\n",
    "print(\"回傳{}筆\".format(len(data)))\n",
    "#data\n",
    "\n",
    "columns = data[0].keys()\n",
    "print(\"欄位名稱\")\n",
    "for col_name in columns:\n",
    "    print(col_name)"
   ]
  },
  {
   "cell_type": "code",
   "execution_count": 2,
   "metadata": {},
   "outputs": [
    {
     "name": "stdout",
     "output_type": "stream",
     "text": [
      "標題：可以不要拉摸ㄎㄧㄤ嗎, 貼文時間：2019-12-08T03:04:28.277Z, 留言人數：30, 按讚人數：1362\n",
      "標題：IKEA的鯊魚484有毒, 貼文時間：2019-12-08T10:11:47.468Z, 留言人數：22, 按讚人數：749\n",
      "標題：海水sps缸紀錄📝, 貼文時間：2019-12-08T01:07:06.659Z, 留言人數：30, 按讚人數：332\n",
      "標題：🐶讓毛孩健健康康過聖誕🐱純肉肉食堂每餐都舔光光😋, 貼文時間：2019-12-09T07:00:13.012Z, 留言人數：0, 按讚人數：110\n",
      "標題：我家的貓根本表情包 ！, 貼文時間：2019-12-08T03:54:39.812Z, 留言人數：3, 按讚人數：94\n",
      "標題：AKA 夢幻狐狸犬, 貼文時間：2019-12-07T23:35:11.592Z, 留言人數：4, 按讚人數：65\n",
      "標題：我再也不敢給學生領養寵物！！（文長, 貼文時間：2019-12-09T00:59:23.212Z, 留言人數：16, 按讚人數：48\n",
      "標題：我家第一隻狐狸寶貝！(๑˃̵ᴗ˂̵), 貼文時間：2019-12-08T09:33:48.688Z, 留言人數：1, 按讚人數：45\n",
      "標題：嘴上說討厭，身體倒蠻誠實的⁎⁍̴̛ᴗ⁍̴̛⁎, 貼文時間：2019-12-08T13:22:01.659Z, 留言人數：12, 按讚人數：43\n",
      "標題：長的不太一樣, 貼文時間：2019-12-07T21:32:32.942Z, 留言人數：1, 按讚人數：42\n",
      "標題：半夜不睡覺的喵ㄦ😂, 貼文時間：2019-12-08T20:55:38.826Z, 留言人數：7, 按讚人數：36\n",
      "標題：小貓每次喝水都嗆到 一直發出嗚嗚聲是正常的嗎…, 貼文時間：2019-12-07T23:22:39.793Z, 留言人數：1, 按讚人數：33\n",
      "標題：我家狗狗好像每天都很累, 貼文時間：2019-12-08T16:43:39.355Z, 留言人數：2, 按讚人數：30\n",
      "標題：我的小女兒-嘎逼🐰, 貼文時間：2019-12-08T10:54:04.444Z, 留言人數：18, 按讚人數：30\n",
      "標題：圖片上的貓🐱, 貼文時間：2019-12-09T01:37:15.440Z, 留言人數：2, 按讚人數：27\n",
      "標題：傻眼貓咪, 貼文時間：2019-12-08T15:53:34.950Z, 留言人數：0, 按讚人數：18\n",
      "標題：#問 台灣領養的到這種貓嗎, 貼文時間：2019-12-08T06:14:11.207Z, 留言人數：31, 按讚人數：18\n",
      "標題：南應大女同學 你的鼠鼠被通緝了, 貼文時間：2019-12-08T12:32:31.220Z, 留言人數：3, 按讚人數：15\n",
      "標題：養貓不花錢一切都是我想花, 貼文時間：2019-12-08T10:20:49.520Z, 留言人數：2, 按讚人數：13\n",
      "標題：【已找到】台中 走失 狐狸犬 協尋！！, 貼文時間：2019-12-08T08:08:56.959Z, 留言人數：0, 按讚人數：12\n",
      "標題：溫暖，但我快不能呼吸, 貼文時間：2019-12-09T05:56:24.480Z, 留言人數：0, 按讚人數：10\n",
      "標題：瑪爾狗聚🐾🐾🐾, 貼文時間：2019-12-09T03:42:30.250Z, 留言人數：3, 按讚人數：10\n",
      "標題：吾家有蛋初長成, 貼文時間：2019-12-08T09:25:50.663Z, 留言人數：1, 按讚人數：10\n",
      "標題：求好心人收養幼貓（已解決）, 貼文時間：2019-12-08T21:47:24.537Z, 留言人數：5, 按讚人數：8\n",
      "標題：寵物龜不見了！, 貼文時間：2019-12-08T11:44:18.463Z, 留言人數：4, 按讚人數：8\n",
      "標題：協尋, 貼文時間：2019-12-08T11:58:39.206Z, 留言人數：0, 按讚人數：7\n",
      "標題：早來的生日禮物, 貼文時間：2019-12-08T07:04:08.188Z, 留言人數：0, 按讚人數：7\n",
      "標題：#求領養 帶她回家巴, 貼文時間：2019-12-09T05:48:31.756Z, 留言人數：1, 按讚人數：6\n",
      "標題：#鬥魚 #曬照, 貼文時間：2019-12-08T22:09:33.115Z, 留言人數：7, 按讚人數：6\n",
      "標題：老爸的養殖場, 貼文時間：2019-12-08T09:43:50.633Z, 留言人數：9, 按讚人數：6\n"
     ]
    }
   ],
   "source": [
    "# 2. 取出每一筆資料的「標題」、「貼文時間」、「留言人數」、「按讚人數」\n",
    "for item in data:\n",
    "    title=item['title']\n",
    "    createdAt=item['createdAt']\n",
    "    commentCount=item['commentCount']\n",
    "    likeCount=item['likeCount']\n",
    "    print('標題：{}, 貼文時間：{}, 留言人數：{}, 按讚人數：{}'.format(title, createdAt, commentCount, likeCount))"
   ]
  },
  {
   "cell_type": "code",
   "execution_count": 9,
   "metadata": {},
   "outputs": [
    {
     "name": "stdout",
     "output_type": "stream",
     "text": [
      "熱門文章 1.平均留言人數：7.166666666666667人 2.平均按讚人數106.66666666666667人\n"
     ]
    }
   ],
   "source": [
    "# 3. 計算熱門/非熱門文章的「平均留言人數」與「平均按讚人數」\n",
    "\n",
    "commentCount = 0\n",
    "likeCount = 0\n",
    "for d in data:\n",
    "    commentCount += d['commentCount']\n",
    "    likeCount += d['likeCount']\n",
    "\n",
    "com = commentCount/len(data)\n",
    "like = likeCount/len(data)\n",
    "print(\"熱門文章 1.平均留言人數：{}人 2.平均按讚人數{}人\".format(com, like))"
   ]
  },
  {
   "cell_type": "code",
   "execution_count": 12,
   "metadata": {},
   "outputs": [
    {
     "name": "stdout",
     "output_type": "stream",
     "text": [
      "非熱門文章 1.平均留言人數：3.2666666666666666人 2.平均按讚人數16.266666666666666人\n"
     ]
    }
   ],
   "source": [
    "r = requests.get('https://www.dcard.tw/_api/forums/pet/posts?popular=false')\n",
    "response = r.text\n",
    "data = json.loads(response)\n",
    "commentCount = 0\n",
    "likeCount = 0\n",
    "for d in data:\n",
    "    commentCount += d['commentCount']\n",
    "    likeCount += d['likeCount']\n",
    "    \n",
    "com = commentCount/len(data)\n",
    "like = likeCount/len(data)\n",
    "print(\"非熱門文章 1.平均留言人數：{}人 2.平均按讚人數{}人\".format(com, like))"
   ]
  },
  {
   "cell_type": "code",
   "execution_count": null,
   "metadata": {},
   "outputs": [],
   "source": []
  }
 ],
 "metadata": {
  "kernelspec": {
   "display_name": "Python 3",
   "language": "python",
   "name": "python3"
  },
  "language_info": {
   "codemirror_mode": {
    "name": "ipython",
    "version": 3
   },
   "file_extension": ".py",
   "mimetype": "text/x-python",
   "name": "python",
   "nbconvert_exporter": "python",
   "pygments_lexer": "ipython3",
   "version": "3.6.9"
  }
 },
 "nbformat": 4,
 "nbformat_minor": 2
}
