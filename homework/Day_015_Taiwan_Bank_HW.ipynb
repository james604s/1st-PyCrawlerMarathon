{
 "cells": [
  {
   "cell_type": "markdown",
   "source": [
    "# 台灣銀行牌告匯率爬蟲練習\n",
    "## 範例1： 練習爬取台幣對其他貨幣匯率資料"
   ],
   "metadata": {}
  },
  {
   "cell_type": "code",
   "execution_count": 1,
   "source": [
    "import requests\n",
    "from bs4 import BeautifulSoup\n",
    "from datetime import datetime\n",
    "import pandas as pd\n",
    "import matplotlib.pyplot as plt\n",
    "import os"
   ],
   "outputs": [],
   "metadata": {}
  },
  {
   "cell_type": "markdown",
   "source": [
    "### 進入台灣銀行牌告匯率網頁：https://rate.bot.com.tw/xrt?Lang=zh-TW ，擷取當日台幣對美金的匯率資訊"
   ],
   "metadata": {}
  },
  {
   "cell_type": "code",
   "execution_count": 14,
   "source": [
    "# 進入台灣銀行牌告匯率網頁，查看當日匯率資料\n",
    "url = \"https://rate.bot.com.tw/xrt?Lang=zh-TW\"\n",
    "resp = requests.get(url)\n",
    "resp.encoding = 'utf-8'\n",
    "# print(resp.text)  # 如有需要，列印出網頁原始碼\n",
    "\n",
    "html = BeautifulSoup(resp.text, \"lxml\")\n",
    "#attr(jq) 特殊屬性抓取\n",
    "rate_table = html.find(name='table', attrs={'title':'牌告匯率'}).find(name='tbody').find_all(name='tr')\n",
    "\n",
    "# 查詢美金(也就是匯率表的第一個元素)對台幣的匯率\n",
    "currency = rate_table[0].find(name='div', attrs={'class':'visible-phone print_hide'})\n",
    "# print(currency.get_text().replace(\" \", \"\"))  # 去掉空白\n",
    "\n",
    "buy_rate = rate_table[0].find(name='td', attrs={'data-table':'本行現金買入'})\n",
    "sell_rate = rate_table[0].find(name='td', attrs={'data-table':'本行現金賣出'})\n",
    "# print(\"即時現金買入: %s, 即時現金賣出: %s\" % (buy_rate.get_text(), sell_rate.get_text()))\n"
   ],
   "outputs": [
    {
     "output_type": "execute_result",
     "data": {
      "text/plain": [
       "19"
      ]
     },
     "metadata": {},
     "execution_count": 14
    }
   ],
   "metadata": {}
  },
  {
   "cell_type": "markdown",
   "source": [
    "### 作業part 1：請參考上面的範例，試著爬取所有貨幣對台幣的匯率"
   ],
   "metadata": {}
  },
  {
   "cell_type": "code",
   "execution_count": null,
   "source": [
    "for rate in rate_table:\n",
    "  currency = rate.find(name='div', attrs={'class':'visible-phone print_hide'})\n",
    "  buy_rate = rate.find(name='td', attrs={'data-table':'本行現金買入'})\n",
    "  sell_rate = rate.find(name='td', attrs={'data-table':'本行現金賣出'})\n",
    "  print(currency.get_text().replace(\" \", \"\"))  # 去掉空白\n",
    "  print(\"即時現金買入: %s, 即時現金賣出: %s\" % (buy_rate.get_text(), sell_rate.get_text()))"
   ],
   "outputs": [],
   "metadata": {}
  },
  {
   "cell_type": "markdown",
   "source": [
    "## 範例2：爬取一個月的美金對台幣歷史匯率資料，並畫出趨勢圖"
   ],
   "metadata": {}
  },
  {
   "cell_type": "code",
   "execution_count": null,
   "source": [
    "# 先到牌告匯率首頁，爬取所有貨幣的種類\n",
    "url = \"https://rate.bot.com.tw/xrt?Lang=zh-TW\"\n",
    "resp = requests.get(url)\n",
    "resp.encoding = 'utf-8'\n",
    "html = BeautifulSoup(resp.text, \"lxml\")\n",
    "rate_table = html.find(name='table', attrs={'title':'牌告匯率'}).find(name='tbody').find_all(name='tr')\n",
    "\n",
    "# 擷取匯率表格，把美金(也就是匯率表的第一個元素)擷取出來，查詢其歷史匯率\n",
    "currency = rate_table[0].find(name='div', attrs={'class':'visible-phone print_hide'})\n",
    "print(currency.get_text().replace(\" \", \"\"))  # 貨幣種類\n",
    "\n",
    "# 針對美金，找到其「歷史匯率」的首頁 \n",
    "history_link = rate_table[0].find(name='td', attrs={'data-table':'歷史匯率'})\n",
    "history_rate_link = \"https://rate.bot.com.tw\" + history_link.a[\"href\"]  # 該貨幣的歷史資料首頁\n",
    "\n",
    "#\n",
    "# 到貨幣歷史匯率網頁，選則該貨幣的「歷史區間」，送出查詢後，觀察其網址變化情形，再試著抓取其歷史匯率資料\n",
    "#\n",
    "# 用「quote/年-月」去取代網址內容，就可以連到該貨幣的歷史資料\n",
    "quote_history_url = history_rate_link.replace(\"history\", \"quote/2021-06\")\n",
    "resp = requests.get(quote_history_url)\n",
    "resp.encoding = 'utf-8'\n",
    "history = BeautifulSoup(resp.text, \"lxml\")\n",
    "history_table = history.find(name='table', attrs={'title':'歷史本行營業時間牌告匯率'}).find(name='tbody').find_all(name='tr')\n",
    "\n",
    "#\n",
    "# 擷取到歷史匯率資料後，把資料彙整起來並畫出趨勢圖\n",
    "#\n",
    "date_history = list()\n",
    "history_buy = list()\n",
    "history_sell = list()\n",
    "\n",
    "for history_rate in history_table:\n",
    "    # 擷取日期資料\n",
    "    date_string = history_rate.a.get_text()\n",
    "    date = datetime.strptime(date_string, '%Y/%M/%d').strftime('%Y/%M/%d')  # 轉換日期格式\n",
    "    date_history.append(date)  # 日期歷史資料\n",
    "\n",
    "    history_ex_rate = history_rate.find_all(name='td', attrs={'class':'rate-content-cash text-right print_table-cell'})\n",
    "    history_buy.append(float(history_ex_rate[0].get_text()))  # 歷史買入匯率\n",
    "    history_sell.append(float(history_ex_rate[1].get_text()))  # 歷史賣出匯率\n",
    "\n",
    "# 將匯率資料建成dataframe形式\n",
    "HistoryExchangeRate = pd.DataFrame({'date': date_history,\n",
    "                                    'buy_rate':history_buy,\n",
    "                                    'sell_rate':history_sell})\n",
    "\n",
    "HistoryExchangeRate = HistoryExchangeRate.set_index('date')  # 指定日期欄位為datafram的index\n",
    "HistoryExchangeRate = HistoryExchangeRate.sort_index(ascending=True)\n",
    "\n",
    "os.system('export DISPLAY=:0.0')\n",
    "# 畫出歷史匯率軌跡圖\n",
    "plt.figure(figsize=(10, 8))\n",
    "HistoryExchangeRate[['buy_rate','sell_rate']].plot()  # x=['date'], y=[['buy_rate','sell_rate']] \n",
    "plt.legend(loc=\"upper left\")\n",
    "plt.show()"
   ],
   "outputs": [
    {
     "output_type": "stream",
     "name": "stdout",
     "text": [
      "\n",
      "美金(USD)\n",
      "\n"
     ]
    }
   ],
   "metadata": {}
  },
  {
   "cell_type": "code",
   "execution_count": null,
   "source": [
    "#pandas版本\n",
    "import pandas as pd \n",
    "\n",
    "# 先到牌告匯率首頁，爬取所有貨幣的種類\n",
    "url = \"https://rate.bot.com.tw/xrt/quote/2020-03/USD\"\n",
    "resp = requests.get(url)\n",
    "resp.encoding = 'utf-8'\n",
    "\n",
    "#\n",
    "# 擷取到歷史匯率資料後，把資料彙整起來並畫出趨勢圖\n",
    "#\n",
    "html = BeautifulSoup(resp.text)\n",
    "print(html.find('tbody').find_all('tr')[0].find_all('td')[0].text)\n",
    "date_list =[]\n",
    "sell_list=[]\n",
    "buy_list=[]\n",
    "for d in html.find('tbody').find_all('tr'):\n",
    "    date_list.append(d.find_all('td')[0].text[5:])\n",
    "    buy_list.append(d.find_all('td')[2].text)\n",
    "    sell_list.append(d.find_all('td')[3].text)\n",
    "buy_list = [float(d) for d in buy_list]\n",
    "sell_list = [float(d) for d in sell_list]\n",
    "data_list = {'2020 date':date_list,'buy':buy_list,'sell':sell_list}\n",
    "data_df = pd.DataFrame(data_list)\n",
    "data_df = data_df.set_index('2020 date')\n",
    "data_df = data_df.sort_index(ascending=True)\n",
    "plt.figure(figsize=(10, 8))\n",
    "data_df[['buy','sell']].plot(kind='line',title='USD')\n",
    "plt.legend(loc=\"upper left\")\n",
    "plt.show()\n",
    "\n",
    "# 將匯率資料建成dataframe形式\n",
    "\n",
    "# 畫出歷史匯率軌跡圖"
   ],
   "outputs": [],
   "metadata": {}
  },
  {
   "cell_type": "markdown",
   "source": [
    "### 作業part 2：爬取每種貨幣對台幣的一個月歷史匯率資料，並畫出趨勢圖"
   ],
   "metadata": {}
  },
  {
   "cell_type": "code",
   "execution_count": 29,
   "source": [
    "# 先到牌告匯率首頁，爬取所有貨幣的種類\n",
    "url = \"https://rate.bot.com.tw/xrt?Lang=zh-TW\"\n",
    "resp = requests.get(url, verify=False)\n",
    "resp.encoding = 'utf-8'\n",
    "html = BeautifulSoup(resp.text, \"lxml\")\n",
    "rate_table = html.find(name='table', attrs={'title':'牌告匯率'}).find(name='tbody').find_all(name='tr')\n",
    "\n",
    "for rate in rate_table:\n",
    "    # 擷取匯率表格，把各貨幣資料擷取出來，查詢其歷史匯率\n",
    "    currency = rate.find(name='div', attrs={'class':'visible-phone print_hide'})\n",
    "    print(currency.get_text().replace(\" \", \"\"))  # 貨幣種類\n",
    "\n",
    "    # 針對美金，找到其「歷史匯率」的首頁 \n",
    "    history_link = rate.find(name='td', attrs={'data-table':'歷史匯率'})\n",
    "    history_rate_link = \"https://rate.bot.com.tw\" + history_link.a[\"href\"]  # 該貨幣的歷史資料首頁\n",
    "\n",
    "    #\n",
    "    # 到貨幣歷史匯率網頁，選則該貨幣的「歷史區間」，送出查詢後，觀察其網址變化情形，再試著抓取其歷史匯率資料\n",
    "    #\n",
    "    # 用「quote/年-月」去取代網址內容，就可以連到該貨幣的歷史資料\n",
    "    quote_history_url = history_rate_link.replace(\"history\", \"quote/2021-06\")\n",
    "    resp = requests.get(quote_history_url, verify=False)\n",
    "    resp.encoding = 'utf-8'\n",
    "    history = BeautifulSoup(resp.text, \"lxml\")\n",
    "    history_table = history.find(name='table', attrs={'title':'歷史本行營業時間牌告匯率'}).find(name='tbody').find_all(name='tr')\n",
    "\n",
    "    #\n",
    "    # 擷取到歷史匯率資料後，把資料彙整起來並畫出趨勢圖\n",
    "    #\n",
    "    date_history = list()\n",
    "    history_buy = list()\n",
    "    history_sell = list()\n",
    "\n",
    "    for history_rate in history_table:\n",
    "        # 擷取日期資料\n",
    "        date_string = history_rate.a.get_text()\n",
    "        date = datetime.strptime(date_string, '%Y/%M/%d').strftime('%Y/%M/%d')  # 轉換日期格式\n",
    "        date_history.append(date)  # 日期歷史資料\n",
    "\n",
    "        history_ex_rate = history_rate.find_all(name='td', attrs={'class':'rate-content-cash text-right print_table-cell'})\n",
    "        history_buy.append(float(history_ex_rate[0].get_text()))  # 歷史買入匯率\n",
    "        history_sell.append(float(history_ex_rate[1].get_text()))  # 歷史賣出匯率\n",
    "\n",
    "    # 將匯率資料建成dataframe形式\n",
    "    HistoryExchangeRate = pd.DataFrame({'date': date_history,\n",
    "                                        'buy_rate':history_buy,\n",
    "                                        'sell_rate':history_sell})\n",
    "\n",
    "    HistoryExchangeRate = HistoryExchangeRate.set_index('date')  # 指定日期欄位為datafram的index\n",
    "    HistoryExchangeRate = HistoryExchangeRate.sort_index(ascending=True)\n",
    "    print(HistoryExchangeRate)\n",
    "\n",
    "    # 畫出歷史匯率軌跡圖\n",
    "    plt.figure(figsize=(10, 8))\n",
    "    HistoryExchangeRate[['buy_rate','sell_rate']].plot()  # x=['date'], y=[['buy_rate','sell_rate']] \n",
    "    plt.legend(loc=\"upper left\")\n",
    "    plt.show()"
   ],
   "outputs": [
    {
     "output_type": "stream",
     "name": "stderr",
     "text": [
      "/usr/local/Caskroom/miniconda/base/envs/my_test/lib/python3.9/site-packages/urllib3/connectionpool.py:1013: InsecureRequestWarning: Unverified HTTPS request is being made to host 'rate.bot.com.tw'. Adding certificate verification is strongly advised. See: https://urllib3.readthedocs.io/en/1.26.x/advanced-usage.html#ssl-warnings\n",
      "  warnings.warn(\n",
      "/usr/local/Caskroom/miniconda/base/envs/my_test/lib/python3.9/site-packages/urllib3/connectionpool.py:1013: InsecureRequestWarning: Unverified HTTPS request is being made to host 'rate.bot.com.tw'. Adding certificate verification is strongly advised. See: https://urllib3.readthedocs.io/en/1.26.x/advanced-usage.html#ssl-warnings\n",
      "  warnings.warn(\n"
     ]
    },
    {
     "output_type": "stream",
     "name": "stdout",
     "text": [
      "\n",
      "美金(USD)\n",
      "\n",
      "            buy_rate  sell_rate\n",
      "date                           \n",
      "2021/06/01    27.240     27.910\n",
      "2021/06/02    27.290     27.960\n",
      "2021/06/03    27.285     27.955\n",
      "2021/06/04    27.295     27.965\n",
      "2021/06/07    27.295     27.965\n",
      "2021/06/08    27.285     27.955\n",
      "2021/06/09    27.355     28.025\n",
      "2021/06/10    27.280     27.950\n",
      "2021/06/11    27.210     27.880\n",
      "2021/06/15    27.245     27.915\n",
      "2021/06/16    27.285     27.955\n",
      "2021/06/17    27.365     28.035\n",
      "2021/06/18    27.380     28.050\n",
      "2021/06/21    27.525     28.195\n",
      "2021/06/22    27.555     28.225\n",
      "2021/06/23    27.595     28.265\n",
      "2021/06/24    27.585     28.255\n",
      "2021/06/25    27.480     28.150\n",
      "2021/06/28    27.495     28.165\n",
      "2021/06/29    27.495     28.165\n",
      "2021/06/30    27.460     28.130\n"
     ]
    },
    {
     "output_type": "display_data",
     "data": {
      "text/plain": [
       "<Figure size 720x576 with 0 Axes>"
      ]
     },
     "metadata": {}
    },
    {
     "output_type": "display_data",
     "data": {
      "text/plain": [
       "<Figure size 432x288 with 1 Axes>"
      ],
      "image/png": "[encoded data removed]"
     },
     "metadata": {
      "needs_background": "light"
     }
    },
    {
     "output_type": "stream",
     "name": "stdout",
     "text": [
      "\n",
      "港幣(HKD)\n",
      "\n"
     ]
    },
    {
     "output_type": "stream",
     "name": "stderr",
     "text": [
      "/usr/local/Caskroom/miniconda/base/envs/my_test/lib/python3.9/site-packages/urllib3/connectionpool.py:1013: InsecureRequestWarning: Unverified HTTPS request is being made to host 'rate.bot.com.tw'. Adding certificate verification is strongly advised. See: https://urllib3.readthedocs.io/en/1.26.x/advanced-usage.html#ssl-warnings\n",
      "  warnings.warn(\n"
     ]
    },
    {
     "output_type": "stream",
     "name": "stdout",
     "text": [
      "            buy_rate  sell_rate\n",
      "date                           \n",
      "2021/06/01     3.406      3.610\n",
      "2021/06/02     3.412      3.616\n",
      "2021/06/03     3.412      3.616\n",
      "2021/06/04     3.413      3.617\n",
      "2021/06/07     3.414      3.618\n",
      "2021/06/08     3.412      3.616\n",
      "2021/06/09     3.421      3.625\n",
      "2021/06/10     3.411      3.615\n",
      "2021/06/11     3.402      3.606\n",
      "2021/06/15     3.405      3.609\n",
      "2021/06/16     3.410      3.614\n",
      "2021/06/17     3.419      3.623\n",
      "2021/06/18     3.422      3.626\n",
      "2021/06/21     3.440      3.644\n",
      "2021/06/22     3.444      3.648\n",
      "2021/06/23     3.448      3.652\n",
      "2021/06/24     3.448      3.652\n",
      "2021/06/25     3.435      3.639\n",
      "2021/06/28     3.437      3.641\n",
      "2021/06/29     3.437      3.641\n",
      "2021/06/30     3.431      3.635\n"
     ]
    },
    {
     "output_type": "display_data",
     "data": {
      "text/plain": [
       "<Figure size 720x576 with 0 Axes>"
      ]
     },
     "metadata": {}
    },
    {
     "output_type": "display_data",
     "data": {
      "text/plain": [
       "<Figure size 432x288 with 1 Axes>"
      ],
      "image/png": "[encoded data removed]"
     },
     "metadata": {
      "needs_background": "light"
     }
    },
    {
     "output_type": "stream",
     "name": "stdout",
     "text": [
      "\n",
      "英鎊(GBP)\n",
      "\n"
     ]
    },
    {
     "output_type": "stream",
     "name": "stderr",
     "text": [
      "/usr/local/Caskroom/miniconda/base/envs/my_test/lib/python3.9/site-packages/urllib3/connectionpool.py:1013: InsecureRequestWarning: Unverified HTTPS request is being made to host 'rate.bot.com.tw'. Adding certificate verification is strongly advised. See: https://urllib3.readthedocs.io/en/1.26.x/advanced-usage.html#ssl-warnings\n",
      "  warnings.warn(\n"
     ]
    },
    {
     "output_type": "stream",
     "name": "stdout",
     "text": [
      "            buy_rate  sell_rate\n",
      "date                           \n",
      "2021/06/01     38.11      40.23\n",
      "2021/06/02     37.96      40.08\n",
      "2021/06/03     37.97      40.09\n",
      "2021/06/04     37.90      40.02\n",
      "2021/06/07     37.94      40.06\n",
      "2021/06/08     37.95      40.07\n",
      "2021/06/09     38.15      40.27\n",
      "2021/06/10     37.81      39.93\n",
      "2021/06/11     37.92      40.04\n",
      "2021/06/15     37.83      39.95\n",
      "2021/06/16     37.89      40.01\n",
      "2021/06/17     37.61      39.73\n",
      "2021/06/18     37.39      39.51\n",
      "2021/06/21     37.43      39.55\n",
      "2021/06/22     37.62      39.74\n",
      "2021/06/23     37.94      40.06\n",
      "2021/06/24     37.87      39.99\n",
      "2021/06/25     37.58      39.70\n",
      "2021/06/28     37.63      39.75\n",
      "2021/06/29     37.47      39.59\n",
      "2021/06/30     37.33      39.45\n"
     ]
    },
    {
     "output_type": "display_data",
     "data": {
      "text/plain": [
       "<Figure size 720x576 with 0 Axes>"
      ]
     },
     "metadata": {}
    },
    {
     "output_type": "display_data",
     "data": {
      "text/plain": [
       "<Figure size 432x288 with 1 Axes>"
      ],
      "image/png": "[encoded data removed]"
     },
     "metadata": {
      "needs_background": "light"
     }
    },
    {
     "output_type": "stream",
     "name": "stdout",
     "text": [
      "\n",
      "澳幣(AUD)\n",
      "\n"
     ]
    },
    {
     "output_type": "stream",
     "name": "stderr",
     "text": [
      "/usr/local/Caskroom/miniconda/base/envs/my_test/lib/python3.9/site-packages/urllib3/connectionpool.py:1013: InsecureRequestWarning: Unverified HTTPS request is being made to host 'rate.bot.com.tw'. Adding certificate verification is strongly advised. See: https://urllib3.readthedocs.io/en/1.26.x/advanced-usage.html#ssl-warnings\n",
      "  warnings.warn(\n"
     ]
    },
    {
     "output_type": "stream",
     "name": "stdout",
     "text": [
      "            buy_rate  sell_rate\n",
      "date                           \n",
      "2021/06/01     21.05      21.83\n",
      "2021/06/02     21.02      21.80\n",
      "2021/06/03     20.98      21.76\n",
      "2021/06/04     20.83      21.61\n",
      "2021/06/07     21.05      21.83\n",
      "2021/06/08     21.04      21.82\n",
      "2021/06/09     21.11      21.89\n",
      "2021/06/10     21.01      21.79\n",
      "2021/06/11     21.05      21.83\n",
      "2021/06/15     20.90      21.68\n",
      "2021/06/16     20.93      21.71\n",
      "2021/06/17     20.75      21.53\n",
      "2021/06/18     20.56      21.34\n",
      "2021/06/21     20.54      21.32\n",
      "2021/06/22     20.58      21.36\n",
      "2021/06/23     20.75      21.53\n",
      "2021/06/24     20.80      21.58\n",
      "2021/06/25     20.79      21.57\n",
      "2021/06/28     20.78      21.56\n",
      "2021/06/29     20.66      21.44\n",
      "2021/06/30     20.55      21.33\n"
     ]
    },
    {
     "output_type": "display_data",
     "data": {
      "text/plain": [
       "<Figure size 720x576 with 0 Axes>"
      ]
     },
     "metadata": {}
    },
    {
     "output_type": "display_data",
     "data": {
      "text/plain": [
       "<Figure size 432x288 with 1 Axes>"
      ],
      "image/png": "[encoded data removed]"
     },
     "metadata": {
      "needs_background": "light"
     }
    },
    {
     "output_type": "stream",
     "name": "stdout",
     "text": [
      "\n",
      "加拿大幣(CAD)\n",
      "\n"
     ]
    },
    {
     "output_type": "stream",
     "name": "stderr",
     "text": [
      "/usr/local/Caskroom/miniconda/base/envs/my_test/lib/python3.9/site-packages/urllib3/connectionpool.py:1013: InsecureRequestWarning: Unverified HTTPS request is being made to host 'rate.bot.com.tw'. Adding certificate verification is strongly advised. See: https://urllib3.readthedocs.io/en/1.26.x/advanced-usage.html#ssl-warnings\n",
      "  warnings.warn(\n"
     ]
    },
    {
     "output_type": "stream",
     "name": "stdout",
     "text": [
      "            buy_rate  sell_rate\n",
      "date                           \n",
      "2021/06/01     22.48      23.39\n",
      "2021/06/02     22.43      23.34\n",
      "2021/06/03     22.45      23.36\n",
      "2021/06/04     22.35      23.26\n",
      "2021/06/07     22.41      23.32\n",
      "2021/06/08     22.41      23.32\n",
      "2021/06/09     22.46      23.37\n",
      "2021/06/10     22.35      23.26\n",
      "2021/06/11     22.34      23.25\n",
      "2021/06/15     22.28      23.19\n",
      "2021/06/16     22.24      23.15\n",
      "2021/06/17     22.08      22.99\n",
      "2021/06/18     21.98      22.89\n",
      "2021/06/21     21.91      22.82\n",
      "2021/06/22     22.07      22.98\n",
      "2021/06/23     22.27      23.18\n",
      "2021/06/24     22.27      23.18\n",
      "2021/06/25     22.17      23.08\n",
      "2021/06/28     22.19      23.10\n",
      "2021/06/29     22.08      22.99\n",
      "2021/06/30     21.98      22.89\n"
     ]
    },
    {
     "output_type": "display_data",
     "data": {
      "text/plain": [
       "<Figure size 720x576 with 0 Axes>"
      ]
     },
     "metadata": {}
    },
    {
     "output_type": "display_data",
     "data": {
      "text/plain": [
       "<Figure size 432x288 with 1 Axes>"
      ],
      "image/png": "[encoded data removed]"
     },
     "metadata": {
      "needs_background": "light"
     }
    },
    {
     "output_type": "stream",
     "name": "stdout",
     "text": [
      "\n",
      "新加坡幣(SGD)\n",
      "\n"
     ]
    },
    {
     "output_type": "stream",
     "name": "stderr",
     "text": [
      "/usr/local/Caskroom/miniconda/base/envs/my_test/lib/python3.9/site-packages/urllib3/connectionpool.py:1013: InsecureRequestWarning: Unverified HTTPS request is being made to host 'rate.bot.com.tw'. Adding certificate verification is strongly advised. See: https://urllib3.readthedocs.io/en/1.26.x/advanced-usage.html#ssl-warnings\n",
      "  warnings.warn(\n"
     ]
    },
    {
     "output_type": "stream",
     "name": "stdout",
     "text": [
      "            buy_rate  sell_rate\n",
      "date                           \n",
      "2021/06/01     20.36      21.27\n",
      "2021/06/02     20.34      21.25\n",
      "2021/06/03     20.33      21.24\n",
      "2021/06/04     20.28      21.19\n",
      "2021/06/07     20.35      21.26\n",
      "2021/06/08     20.35      21.26\n",
      "2021/06/09     20.40      21.31\n",
      "2021/06/10     20.31      21.22\n",
      "2021/06/11     20.31      21.22\n",
      "2021/06/15     20.28      21.19\n",
      "2021/06/16     20.31      21.22\n",
      "2021/06/17     20.17      21.08\n",
      "2021/06/18     20.15      21.06\n",
      "2021/06/21     20.18      21.09\n",
      "2021/06/22     20.18      21.09\n",
      "2021/06/23     20.23      21.14\n",
      "2021/06/24     20.24      21.15\n",
      "2021/06/25     20.22      21.13\n",
      "2021/06/28     20.20      21.11\n",
      "2021/06/29     20.19      21.10\n",
      "2021/06/30     20.15      21.06\n"
     ]
    },
    {
     "output_type": "display_data",
     "data": {
      "text/plain": [
       "<Figure size 720x576 with 0 Axes>"
      ]
     },
     "metadata": {}
    },
    {
     "output_type": "display_data",
     "data": {
      "text/plain": [
       "<Figure size 432x288 with 1 Axes>"
      ],
      "image/png": "[encoded data removed]"
     },
     "metadata": {
      "needs_background": "light"
     }
    },
    {
     "output_type": "stream",
     "name": "stdout",
     "text": [
      "\n",
      "瑞士法郎(CHF)\n",
      "\n"
     ]
    },
    {
     "output_type": "stream",
     "name": "stderr",
     "text": [
      "/usr/local/Caskroom/miniconda/base/envs/my_test/lib/python3.9/site-packages/urllib3/connectionpool.py:1013: InsecureRequestWarning: Unverified HTTPS request is being made to host 'rate.bot.com.tw'. Adding certificate verification is strongly advised. See: https://urllib3.readthedocs.io/en/1.26.x/advanced-usage.html#ssl-warnings\n",
      "  warnings.warn(\n"
     ]
    },
    {
     "output_type": "stream",
     "name": "stdout",
     "text": [
      "            buy_rate  sell_rate\n",
      "date                           \n",
      "2021/06/01     29.94      31.14\n",
      "2021/06/02     30.00      31.20\n",
      "2021/06/03     29.93      31.13\n",
      "2021/06/04     29.78      30.98\n",
      "2021/06/07     29.98      31.18\n",
      "2021/06/08     30.01      31.21\n",
      "2021/06/09     30.15      31.35\n",
      "2021/06/10     30.05      31.25\n",
      "2021/06/11     30.06      31.26\n",
      "2021/06/15     30.00      31.20\n",
      "2021/06/16     30.02      31.22\n",
      "2021/06/17     29.63      30.83\n",
      "2021/06/18     29.46      30.66\n",
      "2021/06/21     29.48      30.68\n",
      "2021/06/22     29.59      30.79\n",
      "2021/06/23     29.68      30.88\n",
      "2021/06/24     29.61      30.81\n",
      "2021/06/25     29.57      30.77\n",
      "2021/06/28     29.59      30.79\n",
      "2021/06/29     29.49      30.69\n",
      "2021/06/30     29.39      30.59\n"
     ]
    },
    {
     "output_type": "display_data",
     "data": {
      "text/plain": [
       "<Figure size 720x576 with 0 Axes>"
      ]
     },
     "metadata": {}
    },
    {
     "output_type": "display_data",
     "data": {
      "text/plain": [
       "<Figure size 432x288 with 1 Axes>"
      ],
      "image/png": "[encoded data removed]"
     },
     "metadata": {
      "needs_background": "light"
     }
    },
    {
     "output_type": "stream",
     "name": "stdout",
     "text": [
      "\n",
      "日圓(JPY)\n",
      "\n"
     ]
    },
    {
     "output_type": "stream",
     "name": "stderr",
     "text": [
      "/usr/local/Caskroom/miniconda/base/envs/my_test/lib/python3.9/site-packages/urllib3/connectionpool.py:1013: InsecureRequestWarning: Unverified HTTPS request is being made to host 'rate.bot.com.tw'. Adding certificate verification is strongly advised. See: https://urllib3.readthedocs.io/en/1.26.x/advanced-usage.html#ssl-warnings\n",
      "  warnings.warn(\n"
     ]
    }
   ],
   "metadata": {}
  },
  {
   "cell_type": "code",
   "execution_count": null,
   "source": [
    "#pandas 版本\n",
    "for rt in rate_table:\n",
    "  print(rt['name'])\n",
    "  country  = rt['name'].split('(')[1].replace(')','')\n",
    "  url = f\"https://rate.bot.com.tw/xrt/quote/2020-03/{country}\"\n",
    "  resp = requests.get(url)\n",
    "  resp.encoding = 'utf-8'\n",
    "\n",
    "  #\n",
    "  # 擷取到歷史匯率資料後，把資料彙整起來並畫出趨勢圖\n",
    "  #\n",
    "  html = BeautifulSoup(resp.text)\n",
    "  print(html.find('tbody').find_all('tr')[0].find_all('td')[0].text)\n",
    "  date_list =[]\n",
    "  sell_list=[]\n",
    "  buy_list=[]\n",
    "  for d in html.find('tbody').find_all('tr'):\n",
    "      date_list.append(d.find_all('td')[0].text[5:])\n",
    "      buy_list.append(d.find_all('td')[2].text)\n",
    "      sell_list.append(d.find_all('td')[3].text)\n",
    "  buy_list = [float(d) for d in buy_list]\n",
    "  sell_list = [float(d) for d in sell_list]\n",
    "  data_list = {'2020 date':date_list,'buy':buy_list,'sell':sell_list}\n",
    "  data_df = pd.DataFrame(data_list)\n",
    "  data_df = data_df.set_index('2020 date')\n",
    "  data_df = data_df.sort_index(ascending=True)\n",
    "  plt.figure(figsize=(10, 8))\n",
    "  data_df[['buy','sell']].plot(kind='line',title=rt['name'],fontproperties=\"SimSun\")\n",
    "  plt.legend(loc=\"upper left\")\n",
    "  plt.show()"
   ],
   "outputs": [],
   "metadata": {}
  },
  {
   "cell_type": "code",
   "execution_count": null,
   "source": [],
   "outputs": [],
   "metadata": {}
  }
 ],
 "metadata": {
  "interpreter": {
   "hash": "8c79c5917a44733765565fcb70136b4accfe53c11fb88e5498444ad3d9653b6f"
  },
  "kernelspec": {
   "display_name": "Python 3",
   "language": "python",
   "name": "python3"
  },
  "language_info": {
   "codemirror_mode": {
    "name": "ipython",
    "version": 3
   },
   "file_extension": ".py",
   "mimetype": "text/x-python",
   "name": "python",
   "nbconvert_exporter": "python",
   "pygments_lexer": "ipython3",
   "version": "3.9.5"
  }
 },
 "nbformat": 4,
 "nbformat_minor": 4
}